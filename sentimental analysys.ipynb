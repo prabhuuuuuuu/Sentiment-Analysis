{
 "cells": [
  {
   "cell_type": "code",
   "execution_count": 42,
   "id": "c490140b-54cc-43c4-ad0a-0a82bb4ae95a",
   "metadata": {},
   "outputs": [],
   "source": [
    "import pandas as pd\n",
    "import numpy as np\n",
    "import tensorflow as tf\n",
    "from tensorflow.keras.models import Sequential # type: ignore\n",
    "from tensorflow.keras.layers import Input, Embedding, GlobalAveragePooling1D, Dense, Dropout\n",
    "from tensorflow.keras.preprocessing.text import Tokenizer # type: ignore\n",
    "from tensorflow.keras.preprocessing.sequence import pad_sequences # type: ignore\n",
    "from sklearn.model_selection import train_test_split # type: ignore  \n",
    "from sklearn.preprocessing import OneHotEncoder"
   ]
  },
  {
   "cell_type": "code",
   "execution_count": 38,
   "id": "512471d5-b9b3-423b-9888-155037fb983c",
   "metadata": {},
   "outputs": [
    {
     "name": "stderr",
     "output_type": "stream",
     "text": [
      "C:\\Users\\prana\\AppData\\Local\\Temp\\ipykernel_26808\\519329188.py:3: FutureWarning: Downcasting behavior in `replace` is deprecated and will be removed in a future version. To retain the old behavior, explicitly call `result.infer_objects(copy=False)`. To opt-in to the future behavior, set `pd.set_option('future.no_silent_downcasting', True)`\n",
      "  reviews_data['label'] = reviews_data['label'].replace({'positive': 1, 'negative': 0})\n"
     ]
    }
   ],
   "source": [
    "reviews_data = pd.read_csv(r\"C:\\Users\\prana\\Downloads\\IMDB Dataset of 50K Movie Reviews\\IMDB Dataset.csv\")\n",
    "\n",
    "reviews_data['label'] = reviews_data['label'].replace({'positive': 1, 'negative': 0})\n",
    "\n",
    "Reviews = reviews_data['review'].values\n",
    "labels = reviews_data['label'].values\n",
    "\n",
    "tokenizer = Tokenizer(num_words = 100000)\n",
    "tokenizer.fit_on_texts(Reviews)\n",
    "sequences = tokenizer.texts_to_sequences(Reviews)"
   ]
  },
  {
   "cell_type": "code",
   "execution_count": 39,
   "id": "198247aa-f354-4739-9824-406d4929f498",
   "metadata": {},
   "outputs": [
    {
     "name": "stderr",
     "output_type": "stream",
     "text": [
      "C:\\Users\\prana\\AppData\\Local\\Programs\\Python\\Python311\\Lib\\site-packages\\keras\\src\\layers\\core\\embedding.py:90: UserWarning: Argument `input_length` is deprecated. Just remove it.\n",
      "  warnings.warn(\n"
     ]
    }
   ],
   "source": [
    "vocab_size    = 100_000\n",
    "embedding_dim = 64\n",
    "maxlen        = 600\n",
    "\n",
    "model = Sequential([\n",
    "    Input(shape=(maxlen,)),  \n",
    "    Embedding(input_dim=vocab_size, output_dim=embedding_dim, input_length=maxlen),\n",
    "    GlobalAveragePooling1D(),  \n",
    "    Dense(64, activation='relu'),\n",
    "    Dropout(0.3),\n",
    "    Dense(32, activation='relu'),\n",
    "    Dropout(0.3),\n",
    "    Dense(1, activation='sigmoid')\n",
    "])"
   ]
  },
  {
   "cell_type": "code",
   "execution_count": 41,
   "id": "fd52fb52-b9ed-4d42-91c6-ea7caa546eca",
   "metadata": {},
   "outputs": [
    {
     "name": "stdout",
     "output_type": "stream",
     "text": [
      "Epoch 1/15\n",
      "\u001b[1m1000/1000\u001b[0m \u001b[32m━━━━━━━━━━━━━━━━━━━━\u001b[0m\u001b[37m\u001b[0m \u001b[1m42s\u001b[0m 40ms/step - accuracy: 0.9989 - loss: 0.0045 - val_accuracy: 0.8579 - val_loss: 1.1240\n",
      "Epoch 2/15\n",
      "\u001b[1m1000/1000\u001b[0m \u001b[32m━━━━━━━━━━━━━━━━━━━━\u001b[0m\u001b[37m\u001b[0m \u001b[1m39s\u001b[0m 39ms/step - accuracy: 0.9996 - loss: 0.0021 - val_accuracy: 0.8599 - val_loss: 1.3999\n",
      "Epoch 3/15\n",
      "\u001b[1m1000/1000\u001b[0m \u001b[32m━━━━━━━━━━━━━━━━━━━━\u001b[0m\u001b[37m\u001b[0m \u001b[1m42s\u001b[0m 40ms/step - accuracy: 0.9993 - loss: 0.0029 - val_accuracy: 0.8566 - val_loss: 1.3416\n",
      "Epoch 4/15\n",
      "\u001b[1m1000/1000\u001b[0m \u001b[32m━━━━━━━━━━━━━━━━━━━━\u001b[0m\u001b[37m\u001b[0m \u001b[1m124s\u001b[0m 124ms/step - accuracy: 0.9995 - loss: 0.0014 - val_accuracy: 0.8619 - val_loss: 1.4361\n",
      "Epoch 5/15\n",
      "\u001b[1m1000/1000\u001b[0m \u001b[32m━━━━━━━━━━━━━━━━━━━━\u001b[0m\u001b[37m\u001b[0m \u001b[1m40s\u001b[0m 40ms/step - accuracy: 1.0000 - loss: 6.3767e-05 - val_accuracy: 0.8609 - val_loss: 1.6333\n",
      "Epoch 6/15\n",
      "\u001b[1m1000/1000\u001b[0m \u001b[32m━━━━━━━━━━━━━━━━━━━━\u001b[0m\u001b[37m\u001b[0m \u001b[1m171s\u001b[0m 170ms/step - accuracy: 0.9990 - loss: 0.0036 - val_accuracy: 0.8571 - val_loss: 1.1693\n",
      "Epoch 7/15\n",
      "\u001b[1m1000/1000\u001b[0m \u001b[32m━━━━━━━━━━━━━━━━━━━━\u001b[0m\u001b[37m\u001b[0m \u001b[1m40s\u001b[0m 40ms/step - accuracy: 0.9998 - loss: 9.3234e-04 - val_accuracy: 0.8547 - val_loss: 1.4255\n",
      "Epoch 8/15\n",
      "\u001b[1m1000/1000\u001b[0m \u001b[32m━━━━━━━━━━━━━━━━━━━━\u001b[0m\u001b[37m\u001b[0m \u001b[1m228s\u001b[0m 226ms/step - accuracy: 0.9999 - loss: 5.7597e-04 - val_accuracy: 0.8420 - val_loss: 1.3169\n",
      "Epoch 9/15\n",
      "\u001b[1m1000/1000\u001b[0m \u001b[32m━━━━━━━━━━━━━━━━━━━━\u001b[0m\u001b[37m\u001b[0m \u001b[1m43s\u001b[0m 40ms/step - accuracy: 0.9992 - loss: 0.0024 - val_accuracy: 0.8516 - val_loss: 1.4000\n",
      "Epoch 10/15\n",
      "\u001b[1m1000/1000\u001b[0m \u001b[32m━━━━━━━━━━━━━━━━━━━━\u001b[0m\u001b[37m\u001b[0m \u001b[1m41s\u001b[0m 39ms/step - accuracy: 0.9996 - loss: 0.0013 - val_accuracy: 0.8514 - val_loss: 1.2372\n",
      "Epoch 11/15\n",
      "\u001b[1m1000/1000\u001b[0m \u001b[32m━━━━━━━━━━━━━━━━━━━━\u001b[0m\u001b[37m\u001b[0m \u001b[1m41s\u001b[0m 40ms/step - accuracy: 0.9997 - loss: 8.0442e-04 - val_accuracy: 0.8499 - val_loss: 1.5518\n",
      "Epoch 12/15\n",
      "\u001b[1m1000/1000\u001b[0m \u001b[32m━━━━━━━━━━━━━━━━━━━━\u001b[0m\u001b[37m\u001b[0m \u001b[1m41s\u001b[0m 40ms/step - accuracy: 0.9995 - loss: 0.0016 - val_accuracy: 0.8605 - val_loss: 1.7447\n",
      "Epoch 13/15\n",
      "\u001b[1m1000/1000\u001b[0m \u001b[32m━━━━━━━━━━━━━━━━━━━━\u001b[0m\u001b[37m\u001b[0m \u001b[1m40s\u001b[0m 39ms/step - accuracy: 0.9998 - loss: 8.5846e-04 - val_accuracy: 0.8525 - val_loss: 1.4127\n",
      "Epoch 14/15\n",
      "\u001b[1m1000/1000\u001b[0m \u001b[32m━━━━━━━━━━━━━━━━━━━━\u001b[0m\u001b[37m\u001b[0m \u001b[1m39s\u001b[0m 39ms/step - accuracy: 0.9997 - loss: 8.1043e-04 - val_accuracy: 0.8576 - val_loss: 1.7161\n",
      "Epoch 15/15\n",
      "\u001b[1m1000/1000\u001b[0m \u001b[32m━━━━━━━━━━━━━━━━━━━━\u001b[0m\u001b[37m\u001b[0m \u001b[1m41s\u001b[0m 39ms/step - accuracy: 0.9998 - loss: 6.4721e-04 - val_accuracy: 0.8566 - val_loss: 1.7725\n",
      "\u001b[1m313/313\u001b[0m \u001b[32m━━━━━━━━━━━━━━━━━━━━\u001b[0m\u001b[37m\u001b[0m \u001b[1m4s\u001b[0m 10ms/step - accuracy: 0.8567 - loss: 1.7219\n",
      "Test Accuracy: 0.86\n"
     ]
    }
   ],
   "source": [
    "model.compile(optimizer='adam',\n",
    "              loss='binary_crossentropy',\n",
    "              metrics=['accuracy'])\n",
    "\n",
    "history = model.fit(X_train, y_train,\n",
    "                    epochs=15,\n",
    "                    validation_split=0.2,\n",
    "                    batch_size=32)\n",
    "\n",
    "loss, accuracy = model.evaluate(X_test, y_test)\n",
    "print(f\"Test Accuracy: {accuracy:.2f}\")\n"
   ]
  },
  {
   "cell_type": "code",
   "execution_count": 45,
   "id": "57960883-3a75-4175-9613-836c0026854f",
   "metadata": {},
   "outputs": [
    {
     "name": "stdout",
     "output_type": "stream",
     "text": [
      "\u001b[1m1/1\u001b[0m \u001b[32m━━━━━━━━━━━━━━━━━━━━\u001b[0m\u001b[37m\u001b[0m \u001b[1m0s\u001b[0m 226ms/step\n",
      "Review: 'This product exceeded my expectations'\n",
      "Predicted Sentiment: Positive (Score: 0.89)\n",
      "Review: 'Complete waste of money, avoid at all costs'\n",
      "Predicted Sentiment: Negative (Score: 0.00)\n",
      "Review: 'Very very bad product man!'\n",
      "Predicted Sentiment: Negative (Score: 0.07)\n",
      "Review: 'I will buy this weekly! so good!'\n",
      "Predicted Sentiment: Positive (Score: 1.00)\n"
     ]
    }
   ],
   "source": [
    "new_reviews = [\n",
    "    \"This product exceeded my expectations\",\n",
    "    \"Complete waste of money, avoid at all costs\",\n",
    "    \"Very very bad product man!\",\n",
    "    \"I will buy this weekly! so good!\"\n",
    "]\n",
    "\n",
    "new_seq  = tokenizer.texts_to_sequences(new_reviews)\n",
    "new_data = pad_sequences(new_seq, maxlen=maxlen)\n",
    "\n",
    "preds = model.predict(new_data)\n",
    "for rev, p in zip(new_reviews, preds):\n",
    "    sentiment = \"Positive\" if p >= 0.5 else \"Negative\"\n",
    "    print(f\"Review: {rev!r}\")\n",
    "    print(f\"Predicted Sentiment: {sentiment} (Score: {p[0]:.2f})\")"
   ]
  },
  {
   "cell_type": "code",
   "execution_count": null,
   "id": "0b8402af-ee43-434a-a3a2-0ea9cc381285",
   "metadata": {},
   "outputs": [],
   "source": []
  }
 ],
 "metadata": {
  "kernelspec": {
   "display_name": "Python 3.11",
   "language": "python",
   "name": "py311"
  },
  "language_info": {
   "codemirror_mode": {
    "name": "ipython",
    "version": 3
   },
   "file_extension": ".py",
   "mimetype": "text/x-python",
   "name": "python",
   "nbconvert_exporter": "python",
   "pygments_lexer": "ipython3",
   "version": "3.11.7"
  }
 },
 "nbformat": 4,
 "nbformat_minor": 5
}
